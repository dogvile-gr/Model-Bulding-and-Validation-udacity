{
 "cells": [
  {
   "cell_type": "code",
   "execution_count": 1,
   "metadata": {
    "collapsed": false
   },
   "outputs": [],
   "source": [
    "import scipy\n",
    "import time as tm\n",
    "import numpy\n",
    "import pandas as pd\n",
    "import seaborn # Importing seaborn automatically makes our plots look better\n",
    "import matplotlib.pyplot as pyplt\n",
    "import sklearn\n",
    "from sklearn import linear_model\n",
    "from sklearn.linear_model import LinearRegression"
   ]
  },
  {
   "cell_type": "code",
   "execution_count": 22,
   "metadata": {
    "collapsed": false
   },
   "outputs": [],
   "source": [
    "nets = pd.read_csv('nets.csv')\n",
    "nets.count()\n",
    "nets['time'] = pd.to_datetime(nets['start_time'],unit='s')\n",
    "nets['IP'] = nets['destination_ip'].str.split('.')\n",
    "nets2 = nets.loc[(nets[\"source_port\"]== 22) ]\n",
    "#nets[\"IP\"] = tm.ctime(nets.start_time)\n",
    "#a = nets['destination_ip']\n",
    "#time = time.ctime(int(start_time)) #converting to readable datatime\n",
    "#f = nets.groupby(nets.time.dt.month).count().plot(kind=\"bar\")\n"
   ]
  },
  {
   "cell_type": "code",
   "execution_count": 20,
   "metadata": {
    "collapsed": false
   },
   "outputs": [
    {
     "data": {
      "text/html": [
       "<div>\n",
       "<table border=\"1\" class=\"dataframe\">\n",
       "  <thead>\n",
       "    <tr style=\"text-align: right;\">\n",
       "      <th></th>\n",
       "      <th>source_ip</th>\n",
       "      <th>destination_ip</th>\n",
       "      <th>start_time</th>\n",
       "      <th>source_port</th>\n",
       "      <th>destination_port</th>\n",
       "      <th>flags</th>\n",
       "      <th>site</th>\n",
       "      <th>asn</th>\n",
       "      <th>num_packets</th>\n",
       "      <th>num_bytes</th>\n",
       "      <th>time</th>\n",
       "      <th>z</th>\n",
       "    </tr>\n",
       "  </thead>\n",
       "  <tbody>\n",
       "    <tr>\n",
       "      <th>0</th>\n",
       "      <td>135.b1d10.d1c38.20</td>\n",
       "      <td>135.0777d.04511.237</td>\n",
       "      <td>1415749946</td>\n",
       "      <td>22</td>\n",
       "      <td>45092</td>\n",
       "      <td>-AP---</td>\n",
       "      <td>45c48</td>\n",
       "      <td>c4ca4</td>\n",
       "      <td>6</td>\n",
       "      <td>504</td>\n",
       "      <td>2014-11-11 23:52:26</td>\n",
       "      <td>[135, 0777d, 04511, 237]</td>\n",
       "    </tr>\n",
       "    <tr>\n",
       "      <th>1</th>\n",
       "      <td>135.0777d.04511.237</td>\n",
       "      <td>135.b1d10.13fe9.91</td>\n",
       "      <td>1415477729</td>\n",
       "      <td>45603</td>\n",
       "      <td>22</td>\n",
       "      <td>-A----,-AP---</td>\n",
       "      <td>45c48</td>\n",
       "      <td>c4ca4</td>\n",
       "      <td>11</td>\n",
       "      <td>956</td>\n",
       "      <td>2014-11-08 20:15:29</td>\n",
       "      <td>[135, b1d10, 13fe9, 91]</td>\n",
       "    </tr>\n",
       "    <tr>\n",
       "      <th>2</th>\n",
       "      <td>135.0777d.04511.237</td>\n",
       "      <td>135.b1d10.13fe9.71</td>\n",
       "      <td>1415702327</td>\n",
       "      <td>45596</td>\n",
       "      <td>22</td>\n",
       "      <td>-A----,-AP---</td>\n",
       "      <td>45c48</td>\n",
       "      <td>c4ca4</td>\n",
       "      <td>11</td>\n",
       "      <td>956</td>\n",
       "      <td>2014-11-11 10:38:47</td>\n",
       "      <td>[135, b1d10, 13fe9, 71]</td>\n",
       "    </tr>\n",
       "    <tr>\n",
       "      <th>3</th>\n",
       "      <td>135.b1d10.d1c38.119</td>\n",
       "      <td>135.0777d.04511.237</td>\n",
       "      <td>1415754478</td>\n",
       "      <td>22</td>\n",
       "      <td>50107</td>\n",
       "      <td>-AP---</td>\n",
       "      <td>45c48</td>\n",
       "      <td>c4ca4</td>\n",
       "      <td>6</td>\n",
       "      <td>504</td>\n",
       "      <td>2014-11-12 01:07:58</td>\n",
       "      <td>[135, 0777d, 04511, 237]</td>\n",
       "    </tr>\n",
       "    <tr>\n",
       "      <th>4</th>\n",
       "      <td>135.b1d10.13fe9.56</td>\n",
       "      <td>135.0777d.04511.237</td>\n",
       "      <td>1415749597</td>\n",
       "      <td>22</td>\n",
       "      <td>45580</td>\n",
       "      <td>-AP---</td>\n",
       "      <td>45c48</td>\n",
       "      <td>c4ca4</td>\n",
       "      <td>6</td>\n",
       "      <td>504</td>\n",
       "      <td>2014-11-11 23:46:37</td>\n",
       "      <td>[135, 0777d, 04511, 237]</td>\n",
       "    </tr>\n",
       "  </tbody>\n",
       "</table>\n",
       "</div>"
      ],
      "text/plain": [
       "             source_ip       destination_ip  start_time  source_port  \\\n",
       "0   135.b1d10.d1c38.20  135.0777d.04511.237  1415749946           22   \n",
       "1  135.0777d.04511.237   135.b1d10.13fe9.91  1415477729        45603   \n",
       "2  135.0777d.04511.237   135.b1d10.13fe9.71  1415702327        45596   \n",
       "3  135.b1d10.d1c38.119  135.0777d.04511.237  1415754478           22   \n",
       "4   135.b1d10.13fe9.56  135.0777d.04511.237  1415749597           22   \n",
       "\n",
       "   destination_port          flags   site    asn  num_packets  num_bytes  \\\n",
       "0             45092         -AP---  45c48  c4ca4            6        504   \n",
       "1                22  -A----,-AP---  45c48  c4ca4           11        956   \n",
       "2                22  -A----,-AP---  45c48  c4ca4           11        956   \n",
       "3             50107         -AP---  45c48  c4ca4            6        504   \n",
       "4             45580         -AP---  45c48  c4ca4            6        504   \n",
       "\n",
       "                 time                         z  \n",
       "0 2014-11-11 23:52:26  [135, 0777d, 04511, 237]  \n",
       "1 2014-11-08 20:15:29   [135, b1d10, 13fe9, 91]  \n",
       "2 2014-11-11 10:38:47   [135, b1d10, 13fe9, 71]  \n",
       "3 2014-11-12 01:07:58  [135, 0777d, 04511, 237]  \n",
       "4 2014-11-11 23:46:37  [135, 0777d, 04511, 237]  "
      ]
     },
     "execution_count": 20,
     "metadata": {},
     "output_type": "execute_result"
    }
   ],
   "source": [
    "nets.head()"
   ]
  },
  {
   "cell_type": "code",
   "execution_count": 19,
   "metadata": {
    "collapsed": false
   },
   "outputs": [],
   "source": [
    "a.str.split('.')\n"
   ]
  },
  {
   "cell_type": "code",
   "execution_count": 25,
   "metadata": {
    "collapsed": false
   },
   "outputs": [
    {
     "name": "stdout",
     "output_type": "stream",
     "text": [
      "<class 'pandas.core.frame.DataFrame'>\n",
      "RangeIndex: 337940 entries, 0 to 337939\n",
      "Data columns (total 12 columns):\n",
      "source_ip           337940 non-null object\n",
      "destination_ip      337940 non-null object\n",
      "start_time          337940 non-null int64\n",
      "source_port         337940 non-null int64\n",
      "destination_port    337940 non-null int64\n",
      "flags               337940 non-null object\n",
      "site                337940 non-null object\n",
      "asn                 337940 non-null object\n",
      "num_packets         337940 non-null int64\n",
      "num_bytes           337940 non-null int64\n",
      "time                337940 non-null datetime64[ns]\n",
      "IP                  337940 non-null object\n",
      "dtypes: datetime64[ns](1), int64(5), object(6)\n",
      "memory usage: 30.9+ MB\n"
     ]
    }
   ],
   "source": [
    "nets2.head()\n",
    "nets2.info()"
   ]
  },
  {
   "cell_type": "code",
   "execution_count": null,
   "metadata": {
    "collapsed": true
   },
   "outputs": [],
   "source": []
  },
  {
   "cell_type": "code",
   "execution_count": null,
   "metadata": {
    "collapsed": true
   },
   "outputs": [],
   "source": []
  }
 ],
 "metadata": {
  "kernelspec": {
   "display_name": "Python 2",
   "language": "python",
   "name": "python2"
  },
  "language_info": {
   "codemirror_mode": {
    "name": "ipython",
    "version": 2
   },
   "file_extension": ".py",
   "mimetype": "text/x-python",
   "name": "python",
   "nbconvert_exporter": "python",
   "pygments_lexer": "ipython2",
   "version": "2.7.11"
  }
 },
 "nbformat": 4,
 "nbformat_minor": 0
}
