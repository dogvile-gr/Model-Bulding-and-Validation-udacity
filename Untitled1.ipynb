{
 "cells": [
  {
   "cell_type": "code",
   "execution_count": 6,
   "metadata": {
    "collapsed": false
   },
   "outputs": [],
   "source": [
    "import scipy\n",
    "import numpy\n",
    "import pandas as pd\n",
    "import seaborn # Importing seaborn automatically makes our plots look better\n",
    "import matplotlib.pyplot as pyplt\n",
    "import sklearn\n",
    "from sklearn import linear_model\n",
    "from sklearn.linear_model import LinearRegression"
   ]
  },
  {
   "cell_type": "code",
   "execution_count": 2,
   "metadata": {
    "collapsed": false
   },
   "outputs": [
    {
     "data": {
      "text/plain": [
       "source_ip           337940\n",
       "destination_ip      337940\n",
       "start_time          337940\n",
       "source_port         337940\n",
       "destination_port    337940\n",
       "flags               337940\n",
       "site                337940\n",
       "asn                 337940\n",
       "num_packets         337940\n",
       "num_bytes           337940\n",
       "dtype: int64"
      ]
     },
     "execution_count": 2,
     "metadata": {},
     "output_type": "execute_result"
    }
   ],
   "source": [
    "nets = pd.read_csv('nets.csv')\n",
    "nets.count()\n"
   ]
  },
  {
   "cell_type": "code",
   "execution_count": 3,
   "metadata": {
    "collapsed": false
   },
   "outputs": [
    {
     "data": {
      "text/html": [
       "<div>\n",
       "<table border=\"1\" class=\"dataframe\">\n",
       "  <thead>\n",
       "    <tr style=\"text-align: right;\">\n",
       "      <th></th>\n",
       "      <th>start_time</th>\n",
       "      <th>source_port</th>\n",
       "      <th>destination_port</th>\n",
       "      <th>num_packets</th>\n",
       "      <th>num_bytes</th>\n",
       "    </tr>\n",
       "  </thead>\n",
       "  <tbody>\n",
       "    <tr>\n",
       "      <th>count</th>\n",
       "      <td>3.379400e+05</td>\n",
       "      <td>337940.000000</td>\n",
       "      <td>337940.000000</td>\n",
       "      <td>3.379400e+05</td>\n",
       "      <td>3.379400e+05</td>\n",
       "    </tr>\n",
       "    <tr>\n",
       "      <th>mean</th>\n",
       "      <td>1.415719e+09</td>\n",
       "      <td>24316.748938</td>\n",
       "      <td>22819.464186</td>\n",
       "      <td>1.016098e+03</td>\n",
       "      <td>8.679041e+05</td>\n",
       "    </tr>\n",
       "    <tr>\n",
       "      <th>std</th>\n",
       "      <td>1.288690e+05</td>\n",
       "      <td>24371.609697</td>\n",
       "      <td>24239.988292</td>\n",
       "      <td>2.264179e+04</td>\n",
       "      <td>2.812659e+07</td>\n",
       "    </tr>\n",
       "    <tr>\n",
       "      <th>min</th>\n",
       "      <td>1.415141e+09</td>\n",
       "      <td>22.000000</td>\n",
       "      <td>22.000000</td>\n",
       "      <td>1.000000e+00</td>\n",
       "      <td>4.000000e+01</td>\n",
       "    </tr>\n",
       "    <tr>\n",
       "      <th>25%</th>\n",
       "      <td>1.415743e+09</td>\n",
       "      <td>22.000000</td>\n",
       "      <td>22.000000</td>\n",
       "      <td>6.000000e+00</td>\n",
       "      <td>4.200000e+02</td>\n",
       "    </tr>\n",
       "    <tr>\n",
       "      <th>50%</th>\n",
       "      <td>1.415770e+09</td>\n",
       "      <td>33008.000000</td>\n",
       "      <td>22.000000</td>\n",
       "      <td>6.000000e+00</td>\n",
       "      <td>8.500000e+02</td>\n",
       "    </tr>\n",
       "    <tr>\n",
       "      <th>75%</th>\n",
       "      <td>1.415788e+09</td>\n",
       "      <td>48823.000000</td>\n",
       "      <td>47130.000000</td>\n",
       "      <td>1.200000e+01</td>\n",
       "      <td>1.008000e+03</td>\n",
       "    </tr>\n",
       "    <tr>\n",
       "      <th>max</th>\n",
       "      <td>1.415807e+09</td>\n",
       "      <td>65534.000000</td>\n",
       "      <td>65534.000000</td>\n",
       "      <td>2.592165e+06</td>\n",
       "      <td>3.869768e+09</td>\n",
       "    </tr>\n",
       "  </tbody>\n",
       "</table>\n",
       "</div>"
      ],
      "text/plain": [
       "         start_time    source_port  destination_port   num_packets  \\\n",
       "count  3.379400e+05  337940.000000     337940.000000  3.379400e+05   \n",
       "mean   1.415719e+09   24316.748938      22819.464186  1.016098e+03   \n",
       "std    1.288690e+05   24371.609697      24239.988292  2.264179e+04   \n",
       "min    1.415141e+09      22.000000         22.000000  1.000000e+00   \n",
       "25%    1.415743e+09      22.000000         22.000000  6.000000e+00   \n",
       "50%    1.415770e+09   33008.000000         22.000000  6.000000e+00   \n",
       "75%    1.415788e+09   48823.000000      47130.000000  1.200000e+01   \n",
       "max    1.415807e+09   65534.000000      65534.000000  2.592165e+06   \n",
       "\n",
       "          num_bytes  \n",
       "count  3.379400e+05  \n",
       "mean   8.679041e+05  \n",
       "std    2.812659e+07  \n",
       "min    4.000000e+01  \n",
       "25%    4.200000e+02  \n",
       "50%    8.500000e+02  \n",
       "75%    1.008000e+03  \n",
       "max    3.869768e+09  "
      ]
     },
     "execution_count": 3,
     "metadata": {},
     "output_type": "execute_result"
    }
   ],
   "source": [
    "nets.describe()"
   ]
  },
  {
   "cell_type": "code",
   "execution_count": 4,
   "metadata": {
    "collapsed": false
   },
   "outputs": [
    {
     "name": "stdout",
     "output_type": "stream",
     "text": [
      "<class 'pandas.core.frame.DataFrame'>\n",
      "RangeIndex: 337940 entries, 0 to 337939\n",
      "Data columns (total 10 columns):\n",
      "source_ip           337940 non-null object\n",
      "destination_ip      337940 non-null object\n",
      "start_time          337940 non-null int64\n",
      "source_port         337940 non-null int64\n",
      "destination_port    337940 non-null int64\n",
      "flags               337940 non-null object\n",
      "site                337940 non-null object\n",
      "asn                 337940 non-null object\n",
      "num_packets         337940 non-null int64\n",
      "num_bytes           337940 non-null int64\n",
      "dtypes: int64(5), object(5)\n",
      "memory usage: 25.8+ MB\n"
     ]
    }
   ],
   "source": [
    "nets.info()"
   ]
  },
  {
   "cell_type": "code",
   "execution_count": null,
   "metadata": {
    "collapsed": true
   },
   "outputs": [],
   "source": []
  }
 ],
 "metadata": {
  "kernelspec": {
   "display_name": "Python 2",
   "language": "python",
   "name": "python2"
  },
  "language_info": {
   "codemirror_mode": {
    "name": "ipython",
    "version": 2
   },
   "file_extension": ".py",
   "mimetype": "text/x-python",
   "name": "python",
   "nbconvert_exporter": "python",
   "pygments_lexer": "ipython2",
   "version": "2.7.11+"
  }
 },
 "nbformat": 4,
 "nbformat_minor": 0
}
